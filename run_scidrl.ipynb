{
 "cells": [
  {
   "cell_type": "code",
   "execution_count": 1,
   "id": "923f3dd2",
   "metadata": {},
   "outputs": [
    {
     "name": "stderr",
     "output_type": "stream",
     "text": [
      "Using TensorFlow backend.\n"
     ]
    }
   ],
   "source": [
    "import numpy as np\n",
    "import random\n",
    "import matplotlib.pyplot as plt\n",
    "import umap.umap_ as umap\n",
    "import time\n",
    "from sklearn.preprocessing import minmax_scale\n",
    "from sklearn.manifold import TSNE\n",
    "from sklearn.decomposition import PCA\n",
    "from pandas import Series,DataFrame\n",
    "import pandas as pd\n",
    "import os\n",
    "import tensorflow as tf\n",
    "import keras\n",
    "from copy import deepcopy\n",
    "from scidrl.models import *\n",
    "from scidrl.main import *\n",
    "import argparse"
   ]
  },
  {
   "cell_type": "code",
   "execution_count": 2,
   "id": "e29ee021",
   "metadata": {},
   "outputs": [],
   "source": [
    "os.environ[\"CUDA_VISIBLE_DEVICES\"] = \"1\"\n",
    "my_seed=1234\n",
    "os.environ['PYTHONHASHSEED']=str(my_seed)\n",
    "random.seed(my_seed)\n",
    "np.random.seed(my_seed)\n",
    "tf.random.set_seed(my_seed)\n",
    "session_conf = tf.compat.v1.ConfigProto()\n",
    "session_conf.gpu_options.allow_growth = True\n",
    "sess = tf.compat.v1.Session(graph=tf.compat.v1.get_default_graph(), config=session_conf)\n",
    "tf.compat.v1.keras.backend.set_session(sess)"
   ]
  },
  {
   "cell_type": "code",
   "execution_count": 3,
   "id": "82fe8912",
   "metadata": {},
   "outputs": [],
   "source": [
    "dirs=\"/data02/tguo/batch_effect/stomach_cancer/\"\n",
    "data_file=dirs+\"allmat.csv\"\n",
    "meta_file=dirs+\"allmeta.csv\""
   ]
  },
  {
   "cell_type": "code",
   "execution_count": 4,
   "id": "71a6af47",
   "metadata": {},
   "outputs": [],
   "source": [
    "parser = argparse.ArgumentParser()\n",
    "parser.add_argument('--zdim', type=int, default=16, help='Dim of embedding.')\n",
    "parser.add_argument('--znoise_dim', type=int, default=2, help='Dim of noise embedding.')\n",
    "parser.add_argument('--epochs', type=int, default=500, help='Number of epochs to train.')\n",
    "parser.add_argument('--batch_size', type=int, default=100, help='Size of batches to train.')\n",
    "parser.add_argument('--lr', type=float, default=1e-3, help='Initial learning rate.')\n",
    "parser.add_argument('--gamma', type=float, default=1, help='Weight of classifier loss.')\n",
    "parser.add_argument('--fg_lambda', type=float, default=1, help='Weight of GRL.')#####!!! if the number of datasets is 2, fg_lambda=1;else fg_lambda=the number of datasets#######\n",
    "parser.add_argument('--acts', type=str, default='sigmoid', help='Activity function of classifier and discriminator')\n",
    "parser.add_argument('--minmaxscale', type=bool, default=True, help='minmax scaling of data')\n",
    "params,unknown=parser.parse_known_args()\n",
    "\n",
    "if not os.path.isdir(dirs+\"model/\"):\n",
    "    os.makedirs(dirs+\"model/\")\n",
    "model_file=dirs+\"model/model_\"+str(params.fg_lambda)+'-'+str(params.batch_size)+'-'+str(params.epochs)+\".h5\""
   ]
  },
  {
   "cell_type": "code",
   "execution_count": null,
   "id": "a98c001e",
   "metadata": {
    "collapsed": true
   },
   "outputs": [
    {
     "name": "stdout",
     "output_type": "stream",
     "text": [
      "WARNING:tensorflow:From /home/tguo/tguo2/miniconda3/envs/tf2x/lib/python3.6/site-packages/tensorflow_core/python/ops/resource_variable_ops.py:1635: calling BaseResourceVariable.__init__ (from tensorflow.python.ops.resource_variable_ops) with constraint is deprecated and will be removed in a future version.\n",
      "Instructions for updating:\n",
      "If using Keras pass *_constraint arguments to layers.\n"
     ]
    },
    {
     "name": "stderr",
     "output_type": "stream",
     "text": [
      "/home/tguo/tguo2/miniconda3/envs/tf2x/lib/python3.6/site-packages/keras/engine/training_utils.py:819: UserWarning: Output myCustomLossLayerReconstruction missing from loss dictionary. We assume this was done on purpose. The fit and evaluate APIs will not be expecting any data to be passed to myCustomLossLayerReconstruction.\n",
      "  'be expecting any data to be passed to {0}.'.format(name))\n",
      "/home/tguo/tguo2/miniconda3/envs/tf2x/lib/python3.6/site-packages/keras/engine/training_utils.py:819: UserWarning: Output myCoustomLossLayerClassifier missing from loss dictionary. We assume this was done on purpose. The fit and evaluate APIs will not be expecting any data to be passed to myCoustomLossLayerClassifier.\n",
      "  'be expecting any data to be passed to {0}.'.format(name))\n",
      "/home/tguo/tguo2/miniconda3/envs/tf2x/lib/python3.6/site-packages/keras/engine/training_utils.py:819: UserWarning: Output myCoustomLossLayerAdversarial missing from loss dictionary. We assume this was done on purpose. The fit and evaluate APIs will not be expecting any data to be passed to myCoustomLossLayerAdversarial.\n",
      "  'be expecting any data to be passed to {0}.'.format(name))\n"
     ]
    },
    {
     "name": "stdout",
     "output_type": "stream",
     "text": [
      "Epoch 1/500\n",
      " - 14s - loss: 340.6785\n",
      "Epoch 2/500\n",
      " - 12s - loss: 311.4437\n",
      "Epoch 3/500\n",
      " - 13s - loss: 309.7364\n",
      "Epoch 4/500\n",
      " - 13s - loss: 308.8401\n",
      "Epoch 5/500\n",
      " - 13s - loss: 308.2773\n",
      "Epoch 6/500\n",
      " - 13s - loss: 307.8078\n",
      "Epoch 7/500\n",
      " - 12s - loss: 307.4795\n",
      "Epoch 8/500\n",
      " - 13s - loss: 307.1899\n",
      "Epoch 9/500\n",
      " - 12s - loss: 306.9534\n",
      "Epoch 10/500\n",
      " - 13s - loss: 306.7433\n",
      "Epoch 11/500\n",
      " - 13s - loss: 306.6002\n",
      "Epoch 12/500\n",
      " - 14s - loss: 306.6439\n",
      "Epoch 13/500\n",
      " - 13s - loss: 306.9578\n",
      "Epoch 14/500\n",
      " - 12s - loss: 306.8500\n",
      "Epoch 15/500\n",
      " - 13s - loss: 306.7382\n",
      "Epoch 16/500\n",
      " - 12s - loss: 306.6728\n",
      "Epoch 17/500\n",
      " - 12s - loss: 306.5581\n",
      "Epoch 18/500\n",
      " - 13s - loss: 306.4840\n",
      "Epoch 19/500\n",
      " - 15s - loss: 306.4114\n",
      "Epoch 20/500\n",
      " - 13s - loss: 306.3486\n"
     ]
    }
   ],
   "source": [
    "scidrl=SCIDRL_train(params,data_file,meta_file)\n",
    "loss=scidrl.train()\n",
    "embed,correct=scidrl.infer()"
   ]
  },
  {
   "cell_type": "code",
   "execution_count": null,
   "id": "2fbf7aff",
   "metadata": {},
   "outputs": [],
   "source": [
    "plt.plot(loss[list(loss.keys())[-2]])"
   ]
  }
 ],
 "metadata": {
  "kernelspec": {
   "display_name": "tf21",
   "language": "python",
   "name": "tf21"
  },
  "language_info": {
   "codemirror_mode": {
    "name": "ipython",
    "version": 3
   },
   "file_extension": ".py",
   "mimetype": "text/x-python",
   "name": "python",
   "nbconvert_exporter": "python",
   "pygments_lexer": "ipython3",
   "version": "3.6.13"
  }
 },
 "nbformat": 4,
 "nbformat_minor": 5
}
