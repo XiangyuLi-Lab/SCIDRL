{
 "cells": [
  {
   "cell_type": "code",
   "execution_count": 1,
   "id": "6fb24d17",
   "metadata": {},
   "outputs": [
    {
     "name": "stderr",
     "output_type": "stream",
     "text": [
      "Using TensorFlow backend.\n"
     ]
    }
   ],
   "source": [
    "import numpy as np\n",
    "import random\n",
    "import matplotlib.pyplot as plt\n",
    "import umap.umap_ as umap\n",
    "import time\n",
    "from sklearn.preprocessing import minmax_scale\n",
    "from sklearn.manifold import TSNE\n",
    "from sklearn.decomposition import PCA\n",
    "from pandas import Series,DataFrame\n",
    "import pandas as pd\n",
    "import os\n",
    "import tensorflow as tf\n",
    "import keras\n",
    "from copy import deepcopy\n",
    "from scidrl.models import *\n",
    "from scidrl.main import *\n",
    "import argparse"
   ]
  },
  {
   "cell_type": "code",
   "execution_count": 2,
   "id": "272b931e",
   "metadata": {},
   "outputs": [],
   "source": [
    "os.environ[\"CUDA_VISIBLE_DEVICES\"] = \"1\"\n",
    "my_seed=1234\n",
    "os.environ['PYTHONHASHSEED']=str(my_seed)\n",
    "random.seed(my_seed)\n",
    "np.random.seed(my_seed)\n",
    "tf.random.set_seed(my_seed)\n",
    "session_conf = tf.compat.v1.ConfigProto()\n",
    "session_conf.gpu_options.allow_growth = True\n",
    "sess = tf.compat.v1.Session(graph=tf.compat.v1.get_default_graph(), config=session_conf)\n",
    "tf.compat.v1.keras.backend.set_session(sess)"
   ]
  },
  {
   "cell_type": "code",
   "execution_count": 3,
   "id": "7357b752",
   "metadata": {},
   "outputs": [],
   "source": [
    "dirs=\"/data02/tguo/batch_effect/stomach_cancer/\"\n",
    "data_file=dirs+\"allmat.csv\"\n",
    "meta_file=dirs+\"allmeta.csv\""
   ]
  },
  {
   "cell_type": "code",
   "execution_count": 4,
   "id": "69f637ca",
   "metadata": {},
   "outputs": [],
   "source": [
    "parser = argparse.ArgumentParser()\n",
    "parser.add_argument('--zdim', type=int, default=16, help='Dim of embedding.')\n",
    "parser.add_argument('--znoise_dim', type=int, default=2, help='Dim of noise embedding.')\n",
    "parser.add_argument('--epochs', type=int, default=500, help='Number of epochs to train.')\n",
    "parser.add_argument('--batch_size', type=int, default=100, help='Size of batches to train.')\n",
    "parser.add_argument('--lr', type=float, default=1e-3, help='Initial learning rate.')\n",
    "parser.add_argument('--gamma', type=float, default=1, help='Weight of classifier loss.')\n",
    "parser.add_argument('--fg_lambda', type=float, default=1, help='Weight of GRL.')\n",
    "parser.add_argument('--acts', type=str, default='sigmoid', help='Activity function of classifier and discriminator')\n",
    "parser.add_argument('--minmaxscale', type=bool, default=True, help='minmax scaling of data')\n",
    "params,unknown=parser.parse_known_args()\n",
    "\n",
    "if not os.path.isdir(dirs+\"model/\"):\n",
    "    os.makedirs(dirs+\"model/\")\n",
    "model_file=dirs+\"model/model_\"+str(params.fg_lambda)+'-'+str(params.batch_size)+'-'+str(params.epochs)+\".h5\""
   ]
  },
  {
   "cell_type": "code",
   "execution_count": null,
   "id": "79614adf",
   "metadata": {},
   "outputs": [],
   "source": [
    "scidrl=SCIDRL_train(params,data_file,meta_file)\n",
    "loss=scidrl.train()\n",
    "embed,correct=scidrl.infer()"
   ]
  },
  {
   "cell_type": "code",
   "execution_count": null,
   "id": "85709215",
   "metadata": {},
   "outputs": [],
   "source": [
    "plt.plot(loss[list(loss.keys())[-2]])"
   ]
  }
 ],
 "metadata": {
  "kernelspec": {
   "display_name": "tf21",
   "language": "python",
   "name": "tf21"
  },
  "language_info": {
   "codemirror_mode": {
    "name": "ipython",
    "version": 3
   },
   "file_extension": ".py",
   "mimetype": "text/x-python",
   "name": "python",
   "nbconvert_exporter": "python",
   "pygments_lexer": "ipython3",
   "version": "3.6.13"
  }
 },
 "nbformat": 4,
 "nbformat_minor": 5
}
